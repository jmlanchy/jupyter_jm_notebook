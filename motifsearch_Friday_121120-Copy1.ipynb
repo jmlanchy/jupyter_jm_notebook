{
 "cells": [
  {
   "cell_type": "code",
   "execution_count": 2,
   "metadata": {},
   "outputs": [
    {
     "ename": "NameError",
     "evalue": "name 'base' is not defined",
     "output_type": "error",
     "traceback": [
      "\u001b[1;31m---------------------------------------------------------------------------\u001b[0m",
      "\u001b[1;31mNameError\u001b[0m                                 Traceback (most recent call last)",
      "\u001b[1;32m<ipython-input-2-7a11bc2fa33f>\u001b[0m in \u001b[0;36m<module>\u001b[1;34m\u001b[0m\n\u001b[0;32m     16\u001b[0m         \u001b[0mfin\u001b[0m   \u001b[1;33m=\u001b[0m \u001b[0mm\u001b[0m\u001b[1;33m.\u001b[0m\u001b[0mend\u001b[0m\u001b[1;33m(\u001b[0m\u001b[1;33m)\u001b[0m\u001b[1;33m\u001b[0m\u001b[1;33m\u001b[0m\u001b[0m\n\u001b[0;32m     17\u001b[0m         \u001b[0mtotal\u001b[0m \u001b[1;33m=\u001b[0m \u001b[0mtotal\u001b[0m \u001b[1;33m+\u001b[0m \u001b[1;36m1\u001b[0m\u001b[1;33m\u001b[0m\u001b[1;33m\u001b[0m\u001b[0m\n\u001b[1;32m---> 18\u001b[1;33m     \u001b[0mprint\u001b[0m\u001b[1;33m(\u001b[0m\u001b[1;34m\"There are a total of \"\u001b[0m \u001b[1;33m+\u001b[0m \u001b[0mstr\u001b[0m\u001b[1;33m(\u001b[0m\u001b[0mtotal\u001b[0m\u001b[1;33m)\u001b[0m \u001b[1;33m+\u001b[0m \u001b[1;34m\" \"\u001b[0m \u001b[1;33m+\u001b[0m  \u001b[0mbase\u001b[0m\u001b[1;33m.\u001b[0m\u001b[0mreplace\u001b[0m\u001b[1;33m(\u001b[0m\u001b[1;34m\"T\"\u001b[0m\u001b[1;33m,\u001b[0m\u001b[1;34m\"U\"\u001b[0m\u001b[1;33m)\u001b[0m \u001b[1;33m+\u001b[0m \u001b[1;34m\" motifs in the \"\u001b[0m \u001b[1;33m+\u001b[0m \u001b[0mseq_record\u001b[0m\u001b[1;33m.\u001b[0m\u001b[0mannotations\u001b[0m\u001b[1;33m[\u001b[0m\u001b[1;34m\"source\"\u001b[0m\u001b[1;33m]\u001b[0m \u001b[1;33m+\u001b[0m \u001b[1;34m\" genome.\"\u001b[0m\u001b[1;33m)\u001b[0m\u001b[1;33m\u001b[0m\u001b[1;33m\u001b[0m\u001b[0m\n\u001b[0m\u001b[0;32m     19\u001b[0m         \u001b[1;31m#f.write(seq_record.name + \",\" + base.replace(\"T\",\"U\") + \",\" + str(pos) + \",\" + str(fin) + \"\\n\")\u001b[0m\u001b[1;33m\u001b[0m\u001b[1;33m\u001b[0m\u001b[1;33m\u001b[0m\u001b[0m\n\u001b[0;32m     20\u001b[0m     \u001b[1;31m#print(\"There are a total of \" + str(total) +  \" RUURU motifs in the \" + seq_record.annotations[\"source\"] + \" genome.\")\u001b[0m\u001b[1;33m\u001b[0m\u001b[1;33m\u001b[0m\u001b[1;33m\u001b[0m\u001b[0m\n",
      "\u001b[1;31mNameError\u001b[0m: name 'base' is not defined"
     ]
    }
   ],
   "source": [
    "import regex as re\n",
    "import csv\n",
    "from Bio import SeqIO\n",
    "from Bio.Seq import Seq\n",
    "\n",
    "#f = open(\"SARS_motifs_RUURU.csv\",\"a\")\n",
    "#f.write(\"genome\" + \",\" + \"motif\" + \",\" + \"start\" + \",\" + \"end\\n\")\n",
    "for seq_record in SeqIO.parse(\"SARS.gb\", \"genbank\"):\n",
    "#I suggest a 5-mer because the following sequence is shown to be the minimum motif for immunoactivity of a sequence called ssRNA40:\n",
    "#5’-UUGUUGUUGUUGUUGUUGUU-3’   \n",
    "    matches = re.finditer(r\"GUUGUUGUU\", str(seq_record.seq), overlapped=True)\n",
    "    total=0\n",
    "    for m in matches:\n",
    "        base  = m.group() \n",
    "        pos   = m.start()\n",
    "        fin   = m.end()\n",
    "        total = total + 1\n",
    "    print(\"There are a total of \" + str(total) + \" \" +  base.replace(\"T\",\"U\") + \" motifs in the \" + seq_record.annotations[\"source\"] + \" genome.\")\n",
    "        #f.write(seq_record.name + \",\" + base.replace(\"T\",\"U\") + \",\" + str(pos) + \",\" + str(fin) + \"\\n\")     \n",
    "    #print(\"There are a total of \" + str(total) +  \" RUURU motifs in the \" + seq_record.annotations[\"source\"] + \" genome.\")\n",
    "#f.close()"
   ]
  },
  {
   "cell_type": "code",
   "execution_count": null,
   "metadata": {},
   "outputs": [],
   "source": []
  }
 ],
 "metadata": {
  "kernelspec": {
   "display_name": "Python 3",
   "language": "python",
   "name": "python3"
  },
  "language_info": {
   "codemirror_mode": {
    "name": "ipython",
    "version": 3
   },
   "file_extension": ".py",
   "mimetype": "text/x-python",
   "name": "python",
   "nbconvert_exporter": "python",
   "pygments_lexer": "ipython3",
   "version": "3.8.5"
  }
 },
 "nbformat": 4,
 "nbformat_minor": 4
}

{
 "cells": [
  {
   "cell_type": "code",
   "execution_count": null,
   "metadata": {},
   "outputs": [],
   "source": [
    "from Bio import SeqIO\n",
    "import sys\n",
    "\n",
    "with open(sys.argv[2], 'w') as nfh:\n",
    "    for rec in SeqIO.parse('./Desktop/hcmvgenomes/allgenomes.gb', \"genbank\"):\n",
    "        if rec.features:\n",
    "            for feature in rec.features:\n",
    "                if feature.type == \"CDS\":\n",
    "                    geng = feature.qualifiers['gene'][0]\n",
    "                    if geng == 'UL78':\n",
    "                        print(\">UL78_\")\n",
    "                        print(rec.name)\n",
    "                        print(feature.qualifiers['translation'])\n",
    "\n"
   ]
  }
 ],
 "metadata": {
  "kernelspec": {
   "display_name": "Python 3",
   "language": "python",
   "name": "python3"
  },
  "language_info": {
   "codemirror_mode": {
    "name": "ipython",
    "version": 3
   },
   "file_extension": ".py",
   "mimetype": "text/x-python",
   "name": "python",
   "nbconvert_exporter": "python",
   "pygments_lexer": "ipython3",
   "version": "3.8.5"
  }
 },
 "nbformat": 4,
 "nbformat_minor": 4
}

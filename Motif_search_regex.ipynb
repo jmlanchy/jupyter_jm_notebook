{
 "cells": [
  {
   "cell_type": "code",
   "execution_count": 1,
   "metadata": {},
   "outputs": [
    {
     "name": "stdout",
     "output_type": "stream",
     "text": [
      "There are a total of 63 motifs in the Human immunodeficiency virus 1 (HIV-1) genome.\n",
      "There are a total of 278 motifs in the Middle East respiratory syndrome-related coronavirus (MERS-CoV) genome.\n",
      "There are a total of 215 motifs in the SARS coronavirus Tor2 genome.\n",
      "There are a total of 246 motifs in the Severe acute respiratory syndrome coronavirus 2 (SARS-CoV-2) genome.\n"
     ]
    }
   ],
   "source": [
    "import regex as re\n",
    "import csv\n",
    "from Bio import SeqIO\n",
    "from Bio.Seq import Seq\n",
    "\n",
    "f = open(\"test.csv\",\"a\")\n",
    "f.write(\"genome\" + \",\" + \"motif\" + \",\" + \"start\" + \",\" + \"end\\n\")\n",
    "for seq_record in SeqIO.parse(\"sequence.gb\", \"genbank\"):\n",
    "    total=0\n",
    "    matches = re.finditer(r\"[AG]T[GATC]{2}GT\", str(seq_record.seq), overlapped=True)\n",
    "    for m in matches: \n",
    "        base  = m.group() \n",
    "        pos   = m.start()\n",
    "        fin   = m.end()\n",
    "        total = total + 1\n",
    "        f.write(seq_record.name + \",\" + base.replace(\"T\",\"U\") + \",\" + str(pos) + \",\" + str(fin) + \"\\n\")     \n",
    "    print(\"There are a total of \" + str(total) +  \" motifs in the \" + seq_record.annotations[\"source\"] + \" genome.\")\n",
    "f.close()"
   ]
  },
  {
   "cell_type": "code",
   "execution_count": null,
   "metadata": {},
   "outputs": [],
   "source": []
  },
  {
   "cell_type": "code",
   "execution_count": null,
   "metadata": {},
   "outputs": [],
   "source": []
  },
  {
   "cell_type": "code",
   "execution_count": null,
   "metadata": {},
   "outputs": [],
   "source": []
  }
 ],
 "metadata": {
  "kernelspec": {
   "display_name": "Python 3",
   "language": "python",
   "name": "python3"
  },
  "language_info": {
   "codemirror_mode": {
    "name": "ipython",
    "version": 3
   },
   "file_extension": ".py",
   "mimetype": "text/x-python",
   "name": "python",
   "nbconvert_exporter": "python",
   "pygments_lexer": "ipython3",
   "version": "3.8.5"
  }
 },
 "nbformat": 4,
 "nbformat_minor": 4
}

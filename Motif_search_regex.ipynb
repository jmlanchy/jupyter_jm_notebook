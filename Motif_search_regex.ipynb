{
 "cells": [
  {
   "cell_type": "code",
   "execution_count": 1,
   "metadata": {},
   "outputs": [
    {
     "name": "stdout",
     "output_type": "stream",
     "text": [
      "There are a total of 353 motifs in the Bat coronavirus genome.\n",
      "There are a total of 280 motifs in the Betacoronavirus England 1 genome.\n",
      "There are a total of 382 motifs in the Rousettus bat coronavirus HKU9 genome.\n",
      "There are a total of 308 motifs in the Bat coronavirus genome.\n",
      "There are a total of 271 motifs in the Pipistrellus bat coronavirus HKU5 genome.\n",
      "There are a total of 342 motifs in the Tylonycteris bat coronavirus HKU4 genome.\n",
      "There are a total of 363 motifs in the Human coronavirus HKU1 (HCoV-HKU1) genome.\n",
      "There are a total of 215 motifs in the SARS coronavirus Tor2 genome.\n",
      "There are a total of 394 motifs in the Betacoronavirus HKU24 genome.\n",
      "There are a total of 357 motifs in the Rabbit coronavirus HKU14 genome.\n",
      "There are a total of 370 motifs in the Murine hepatitis virus genome.\n",
      "There are a total of 392 motifs in the Rodent coronavirus genome.\n",
      "There are a total of 355 motifs in the Rat coronavirus Parker genome.\n",
      "There are a total of 359 motifs in the Bovine coronavirus genome.\n",
      "There are a total of 370 motifs in the Murine hepatitis virus genome.\n",
      "There are a total of 352 motifs in the Human coronavirus OC43 (HCoV-OC43) genome.\n",
      "There are a total of 328 motifs in the Rousettus bat coronavirus genome.\n",
      "There are a total of 252 motifs in the Bat Hp-betacoronavirus/Zhejiang2013 genome.\n",
      "There are a total of 278 motifs in the Middle East respiratory syndrome-related coronavirus (MERS-CoV) genome.\n",
      "There are a total of 354 motifs in the Betacoronavirus Erinaceus/VMC/DEU/2012 genome.\n",
      "There are a total of 246 motifs in the Severe acute respiratory syndrome coronavirus 2 (SARS-CoV-2) genome.\n",
      "There are a total of 303 motifs in the NL63-related bat coronavirus genome.\n",
      "There are a total of 301 motifs in the Duck coronavirus genome.\n",
      "There are a total of 302 motifs in the Infectious bronchitis virus genome.\n",
      "There are a total of 359 motifs in the Wencheng Sm shrew coronavirus genome.\n",
      "There are a total of 327 motifs in the Canada goose coronavirus genome.\n",
      "There are a total of 311 motifs in the Alphacoronavirus Bat-CoV/P.kuhlii/Italy/3398-19/2015 genome.\n",
      "There are a total of 354 motifs in the Shrew coronavirus genome.\n",
      "There are a total of 298 motifs in the Lucheng Rn rat coronavirus genome.\n",
      "There are a total of 177 motifs in the Porcine coronavirus HKU15 genome.\n",
      "There are a total of 275 motifs in the Transmissible gastroenteritis virus genome.\n",
      "There are a total of 238 motifs in the Bulbul coronavirus HKU11-934 genome.\n",
      "There are a total of 361 motifs in the Wencheng Sm shrew coronavirus genome.\n",
      "There are a total of 307 motifs in the Coronavirus AcCoV-JC34 genome.\n",
      "There are a total of 298 motifs in the NL63-related bat coronavirus genome.\n",
      "There are a total of 335 motifs in the Ferret coronavirus genome.\n",
      "There are a total of 361 motifs in the BtNv-AlphaCoV/SC2013 genome.\n",
      "There are a total of 315 motifs in the BtRf-AlphaCoV/YN2012 genome.\n",
      "There are a total of 313 motifs in the BtRf-AlphaCoV/HuB2013 genome.\n",
      "There are a total of 278 motifs in the BtMr-AlphaCoV/SAX2011 genome.\n",
      "There are a total of 259 motifs in the Swine enteric coronavirus genome.\n",
      "There are a total of 322 motifs in the Camel alphacoronavirus genome.\n",
      "There are a total of 339 motifs in the Mink coronavirus strain WD1127 genome.\n",
      "There are a total of 311 motifs in the Bat coronavirus CDPHE15/USA/2006 genome.\n",
      "There are a total of 364 motifs in the Rousettus bat coronavirus HKU10 genome.\n",
      "There are a total of 140 motifs in the Sparrow coronavirus HKU17 genome.\n",
      "There are a total of 202 motifs in the White-eye coronavirus HKU16 genome.\n",
      "There are a total of 280 motifs in the Common moorhen coronavirus HKU21 genome.\n",
      "There are a total of 286 motifs in the Wigeon coronavirus HKU20 genome.\n",
      "There are a total of 205 motifs in the Night heron coronavirus HKU19 genome.\n",
      "There are a total of 172 motifs in the Magpie-robin coronavirus HKU18 genome.\n",
      "There are a total of 310 motifs in the Feline infectious peritonitis virus genome.\n",
      "There are a total of 245 motifs in the Bat coronavirus BM48-31/BGR/2008 genome.\n",
      "There are a total of 192 motifs in the Munia coronavirus HKU13-3514 genome.\n",
      "There are a total of 261 motifs in the Thrush coronavirus HKU12-600 genome.\n",
      "There are a total of 298 motifs in the Turkey coronavirus genome.\n",
      "There are a total of 345 motifs in the Beluga whale coronavirus SW1 genome.\n",
      "There are a total of 342 motifs in the Miniopterus bat coronavirus HKU8 genome.\n",
      "There are a total of 324 motifs in the Bat coronavirus 1A genome.\n",
      "There are a total of 326 motifs in the Rhinolophus bat coronavirus HKU2 genome.\n",
      "There are a total of 299 motifs in the Scotophilus bat coronavirus 512 genome.\n",
      "There are a total of 372 motifs in the Human coronavirus NL63 (HCoV-NL63) genome.\n",
      "There are a total of 268 motifs in the Porcine epidemic diarrhea virus (PEDV) genome.\n",
      "There are a total of 334 motifs in the Human coronavirus 229E genome.\n",
      "There are a total of 295 motifs in the Infectious bronchitis virus genome.\n"
     ]
    }
   ],
   "source": [
    "import regex as re\n",
    "import csv\n",
    "from Bio import SeqIO\n",
    "from Bio.Seq import Seq\n",
    "\n",
    "f = open(\"motifs_locations.csv\",\"a\")\n",
    "f.write(\"genome\" + \",\" + \"motif\" + \",\" + \"start\" + \",\" + \"end\\n\")\n",
    "for seq_record in SeqIO.parse(\"coronaviruses.gb\", \"genbank\"):\n",
    "    total=0\n",
    "    matches = re.finditer(r\"[AG]T[GATC]{2}GT\", str(seq_record.seq), overlapped=True)\n",
    "    for m in matches: \n",
    "        base  = m.group() \n",
    "        pos   = m.start()\n",
    "        fin   = m.end()\n",
    "        total = total + 1\n",
    "        f.write(seq_record.name + \",\" + base.replace(\"T\",\"U\") + \",\" + str(pos) + \",\" + str(fin) + \"\\n\")     \n",
    "    print(\"There are a total of \" + str(total) +  \" motifs in the \" + seq_record.annotations[\"source\"] + \" genome.\")\n",
    "f.close()"
   ]
  },
  {
   "cell_type": "code",
   "execution_count": null,
   "metadata": {},
   "outputs": [],
   "source": []
  },
  {
   "cell_type": "code",
   "execution_count": null,
   "metadata": {},
   "outputs": [],
   "source": []
  },
  {
   "cell_type": "code",
   "execution_count": null,
   "metadata": {},
   "outputs": [],
   "source": []
  }
 ],
 "metadata": {
  "kernelspec": {
   "display_name": "Python 3",
   "language": "python",
   "name": "python3"
  },
  "language_info": {
   "codemirror_mode": {
    "name": "ipython",
    "version": 3
   },
   "file_extension": ".py",
   "mimetype": "text/x-python",
   "name": "python",
   "nbconvert_exporter": "python",
   "pygments_lexer": "ipython3",
   "version": "3.8.5"
  }
 },
 "nbformat": 4,
 "nbformat_minor": 4
}

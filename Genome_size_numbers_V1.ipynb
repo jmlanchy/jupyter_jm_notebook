{
 "cells": [
  {
   "cell_type": "code",
   "execution_count": 7,
   "metadata": {},
   "outputs": [],
   "source": [
    "import regex as re\n",
    "import csv\n",
    "from Bio import SeqIO\n",
    "from Bio.Seq import Seq\n",
    "\n",
    "f=[]\n",
    "f = open(\"motifs_RUURU_fluA.csv\",\"a\")\n",
    "f.write(\"virus,genbank_ID,segment,length,motifs_total,A,C,G,T\\n\") \n",
    "for seq_record in SeqIO.parse(\"FluA_North_America.fa\",\"fasta\"):                                       # First loop: one genome at-a-time (fasta or genbank formats).                                                                   # Reset of counter for the total number of motifs found in each genome\n",
    "    matches = re.finditer(r\"[AG]TT[AG]T\", str(seq_record.seq.reverse_complement()), overlapped=True)\n",
    "    total=0\n",
    "    for m in matches:       # Second loop: motifs serach in a genome             # Here the motif is 5'-RTTRT. Motifs may overlap. \n",
    "        base  = m.group()   # sequence of the motif                              # For instance, there are two RTTRT motifs in the\n",
    "        pos   = m.start()   # position of motif's first nucleotide               # ATTGTTGT sequence (starting at positions 1 and 4).\n",
    "        fin   = m.end()     # position of motif's last nucleotide\n",
    "        total = total + 1   # counter of total number of motifs found in the current, one=at-a-time genome\n",
    "    f.write(\"Flu type A,\" + str(seq_record.name[:-2]) + \",\" + str(seq_record.name[-1]) + \",\" + str(len(seq_record.seq)) + \",\" + str(total)\\\n",
    "            + \",\" + str(seq_record.seq.count(\"A\")) + \",\" + str(seq_record.seq.count(\"C\"))\\\n",
    "            + \",\" + str(seq_record.seq.count(\"G\")) + \",\" + str(seq_record.seq.count(\"T\"))\\\n",
    "            + \"\\n\")\n",
    "f.close()"
   ]
  },
  {
   "cell_type": "code",
   "execution_count": null,
   "metadata": {},
   "outputs": [],
   "source": []
  },
  {
   "cell_type": "code",
   "execution_count": null,
   "metadata": {},
   "outputs": [],
   "source": []
  },
  {
   "cell_type": "code",
   "execution_count": null,
   "metadata": {},
   "outputs": [],
   "source": []
  },
  {
   "cell_type": "code",
   "execution_count": null,
   "metadata": {},
   "outputs": [],
   "source": []
  },
  {
   "cell_type": "code",
   "execution_count": null,
   "metadata": {},
   "outputs": [],
   "source": []
  },
  {
   "cell_type": "code",
   "execution_count": null,
   "metadata": {},
   "outputs": [],
   "source": []
  },
  {
   "cell_type": "code",
   "execution_count": null,
   "metadata": {},
   "outputs": [],
   "source": []
  },
  {
   "cell_type": "code",
   "execution_count": null,
   "metadata": {},
   "outputs": [],
   "source": []
  }
 ],
 "metadata": {
  "kernelspec": {
   "display_name": "Python 3",
   "language": "python",
   "name": "python3"
  },
  "language_info": {
   "codemirror_mode": {
    "name": "ipython",
    "version": 3
   },
   "file_extension": ".py",
   "mimetype": "text/x-python",
   "name": "python",
   "nbconvert_exporter": "python",
   "pygments_lexer": "ipython3",
   "version": "3.8.5"
  }
 },
 "nbformat": 4,
 "nbformat_minor": 4
}

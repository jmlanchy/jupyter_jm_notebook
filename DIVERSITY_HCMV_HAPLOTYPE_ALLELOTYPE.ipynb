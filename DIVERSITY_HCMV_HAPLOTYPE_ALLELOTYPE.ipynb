{
 "cells": [
  {
   "cell_type": "markdown",
   "metadata": {},
   "source": [
    "The next cell/script shows the number of HCMV genomes in the file called allHCMVgenomesB.gb."
   ]
  },
  {
   "cell_type": "code",
   "execution_count": 1,
   "metadata": {
    "scrolled": true
   },
   "outputs": [
    {
     "name": "stdout",
     "output_type": "stream",
     "text": [
      "There are 249 genomes in the allHCMVgenomesB.gb file\n"
     ]
    }
   ],
   "source": [
    "from Bio import SeqIO\n",
    "genomes_number_dict = SeqIO.to_dict(SeqIO.parse(\"C:/Users/jmlanchy/allHCMVgenomesB.gb\", \\\n",
    "                                                \"genbank\"))\n",
    "print(\"There are %s genomes in the allHCMVgenomesB.gb file\" % len(genomes_number_dict))"
   ]
  },
  {
   "cell_type": "markdown",
   "metadata": {},
   "source": [
    "The next cell/script extracts all known HCMV genes from the 249 genomes."
   ]
  },
  {
   "cell_type": "code",
   "execution_count": 7,
   "metadata": {},
   "outputs": [
    {
     "name": "stdout",
     "output_type": "stream",
     "text": [
      "41464\n",
      "189\n",
      "182\n",
      "['RL1', 'RL5A', 'RL6', 'RL8A', 'RL9A', 'RL10', 'RL11', 'RL12', 'RL13', 'UL1', 'UL2', 'UL4', 'UL5', 'UL6', 'UL8', 'UL7', 'UL9', 'UL10', 'UL11', 'UL13', 'UL14', 'UL15A', 'UL16', 'UL17', 'UL18', 'UL19', 'UL20', 'UL21A', 'UL22A', 'UL23', 'UL24', 'UL25', 'UL26', 'UL27', 'UL29', 'UL30', 'UL30A', 'UL31', 'UL32', 'UL33', 'UL34', 'UL35', 'UL36', 'UL37', 'UL38', 'UL40', 'UL41A', 'UL42', 'UL43', 'UL44', 'UL45', 'UL46', 'UL47', 'UL48', 'UL48A', 'UL49', 'UL50', 'UL51', 'UL52', 'UL53', 'UL54', 'UL55', 'UL56', 'UL57', 'UL69', 'UL70', 'UL71', 'UL72', 'UL73', 'UL74', 'UL74A', 'UL75', 'UL76', 'UL77', 'UL78', 'UL79', 'UL80', 'UL80.5', 'UL82', 'UL83', 'UL84', 'UL85', 'UL86', 'UL87', 'UL88', 'UL89', 'UL91', 'UL92', 'UL93', 'UL94', 'UL95', 'UL96', 'UL97', 'UL98', 'UL99', 'UL100', 'UL102', 'UL103', 'UL104', 'UL105', 'UL111A', 'UL112', 'UL114', 'UL115', 'UL116', 'UL117', 'UL119', 'UL120', 'UL121', 'UL122', 'UL123', 'UL124', 'UL128', 'UL130', 'UL131A', 'UL132', 'UL148', 'UL147A', 'UL147', 'UL146', 'UL145', 'UL144', 'UL142', 'UL141', 'UL140', 'UL139', 'UL138', 'UL136', 'UL135', 'UL133', 'UL148A', 'UL148B', 'UL148C', 'UL148D', 'UL150', 'UL150A', 'IRS1', 'US1', 'US2', 'US3', 'US6', 'US7', 'US8', 'US9', 'US10', 'US11', 'US12', 'US13', 'US14', 'US15', 'US16', 'US17', 'US18', 'US19', 'US20', 'US21', 'US22', 'US23', 'US24', 'US26', 'US27', 'US28', 'US29', 'US30', 'US31', 'US32', 'US33A', 'US34', 'US34A', 'TRS1', 'US33', 'UL3', 'UL12', 'UL28', 'vMIA', 'UL59', 'UL60', 'UL90', 'UL127', 'UL137', 'UL134', 'UL149']\n"
     ]
    }
   ],
   "source": [
    "from Bio import SeqIO\n",
    "temp_genes=[]\n",
    "for rec in SeqIO.parse(\"C:/Users/jmlanchy/allHCMVgenomesB.gb\", \"genbank\"):\n",
    "    for feature in rec.features:\n",
    "        if feature.type == \"CDS\":\n",
    "            temp_genes.append(str(feature.qualifiers.get('gene'))[2:-2])\n",
    "print(len(temp_genes))\n",
    "all_known_genes = []\n",
    "for genius in temp_genes:\n",
    "    if genius not in all_known_genes:\n",
    "        all_known_genes.append(genius)\n",
    "print(len(all_known_genes))\n",
    "# print(all_known_genes)\n",
    "final_genes=all_known_genes\n",
    "final_genes.remove('sopB')\n",
    "final_genes.remove('sopA')\n",
    "final_genes.remove('repE')\n",
    "final_genes.remove('cat')\n",
    "final_genes.remove('')\n",
    "final_genes.remove('RL13/TRL14')\n",
    "final_genes.remove('UL6/UL9')\n",
    "print(len(final_genes))\n",
    "print(final_genes)"
   ]
  },
  {
   "cell_type": "markdown",
   "metadata": {},
   "source": [
    "The next cell/script shows the extraction of the genes listed in each of the 246 HCMV genomes. The file megalist is a dictionary with the accession numbers as keys, and the list of genes extracted for each genome as value."
   ]
  },
  {
   "cell_type": "code",
   "execution_count": 38,
   "metadata": {},
   "outputs": [
    {
     "name": "stdout",
     "output_type": "stream",
     "text": [
      "MF084223 is the first genome in the megalist\n",
      "KF021605 is the 18th genome in the megalist\n",
      "FJ527563 is the 19th genome in the megalist\n"
     ]
    }
   ],
   "source": [
    "from Bio import SeqIO\n",
    "megalist={}\n",
    "for rec in SeqIO.parse(\"C:/Users/jmlanchy/allHCMVgenomesB.gb\", \"genbank\"):\n",
    "    list_genes=[]\n",
    "    for feature in rec.features:\n",
    "        if feature.type == \"CDS\":\n",
    "            list_genes.append(str(feature.qualifiers.get('gene'))[2:-2])\n",
    "    megalist[rec.id[0:8]] = list_genes\n",
    "print(\"%s is the first genome in the megalist\" % list(megalist)[0])\n",
    "print(\"%s is the 18th genome in the megalist\" % list(megalist)[18])\n",
    "print(\"%s is the 19th genome in the megalist\" % list(megalist)[19])\n",
    "# megalist.get('MF084223')\n",
    "# megalist.get('KF021605')\n",
    "# megalist.get('FJ527563')"
   ]
  },
  {
   "cell_type": "markdown",
   "metadata": {},
   "source": [
    "The next cell/script is about comparing the lists of genes from two genomes."
   ]
  },
  {
   "cell_type": "code",
   "execution_count": 46,
   "metadata": {},
   "outputs": [
    {
     "name": "stdout",
     "output_type": "stream",
     "text": [
      "The following genes are different between the KF021605 and FJ527563 genomes' lists of genes:\n",
      "['UL141', 'UL144', 'UL131A', 'RL5A', 'UL142', 'RL13', 'UL140']\n"
     ]
    }
   ],
   "source": [
    "def Diff(li1, li2):\n",
    "    return (list(list(set(li1)-set(li2)) + list(set(li2)-set(li1))))\n",
    "li1 = megalist.get('KF021605')\n",
    "li2 = megalist.get('FJ527563')\n",
    "print(\"The following genes are different between the %s and %s genomes' lists of genes:\" % (list(megalist)[18], list(megalist)[19]))\n",
    "print(Diff(li1, li2))"
   ]
  },
  {
   "cell_type": "markdown",
   "metadata": {},
   "source": [
    "The next cell/script calculates the average gene number per genome."
   ]
  },
  {
   "cell_type": "code",
   "execution_count": 35,
   "metadata": {},
   "outputs": [
    {
     "name": "stdout",
     "output_type": "stream",
     "text": [
      "There is an average of 166 genes per HCMV genome\n"
     ]
    }
   ],
   "source": [
    "j=0\n",
    "for key,value in megalist.items():\n",
    "    j= j + len(value)\n",
    "print(\"There is an average of %s genes per HCMV genome\" % int(j/249))"
   ]
  },
  {
   "cell_type": "markdown",
   "metadata": {},
   "source": [
    "The next cell/script extracts 170 fasta protein files containing up to 249 fasta entries each, based on the genes annotations found in all 249 HCMV genomes."
   ]
  },
  {
   "cell_type": "code",
   "execution_count": 8,
   "metadata": {},
   "outputs": [
    {
     "name": "stdout",
     "output_type": "stream",
     "text": [
      "Done. Check the files.\n"
     ]
    }
   ],
   "source": [
    "from Bio import SeqIO # HCMV PROTEIN EXTRACTION\n",
    "f=[]\n",
    "g=[]\n",
    "h=[]\n",
    "for genie in final_genes:\n",
    "    f = open(\"{}_proteins.fasta\".format(genie),\"a\")\n",
    "    h = open(\"{}_genomes.txt\".format(genie),\"a\")\n",
    "    g = open(\"{}_counting.txt\".format(genie),\"a\")\n",
    "    i = 0\n",
    "    for rec in SeqIO.parse(\"C:/Users/jmlanchy/allHCMVgenomesB.gb\", \"genbank\"):\n",
    "        for feature in rec.features:\n",
    "            if feature.type == \"CDS\":\n",
    "                if str(feature.qualifiers.get('gene'))[2:-2] == genie:\n",
    "                    f.write(\">\"+str(rec.id[0:8])+\"\\n\")\n",
    "                    f.write(str(feature.qualifiers.get(\"translation\"))[2:-2]+\"\\n\")\n",
    "                    h.write(str(rec.id[0:8])+\"\\n\")\n",
    "                    i=i+1\n",
    "    g.write(\"{}_total sequences is \".format(genie))\n",
    "    g.write(str(i))\n",
    "    g.close()\n",
    "    f.close()\n",
    "    h.close()\n",
    "print('Done. Check the files.')"
   ]
  },
  {
   "cell_type": "markdown",
   "metadata": {},
   "source": [
    "The next cell/script extracts 170 fasta DNA files containing up to 249 fasta entries each, based on the genes annotations found in all 249 HCMV genomes."
   ]
  },
  {
   "cell_type": "code",
   "execution_count": 9,
   "metadata": {},
   "outputs": [
    {
     "name": "stdout",
     "output_type": "stream",
     "text": [
      "Done. Check the files.\n"
     ]
    }
   ],
   "source": [
    "from Bio import SeqIO # HCMV DNA EXTRACTION\n",
    "from Bio.SeqFeature import SeqFeature, FeatureLocation\n",
    "f=[]\n",
    "g=[]\n",
    "h=[]\n",
    "for genie in final_genes:\n",
    "    f = open(\"{}DNA.fasta\".format(genie),\"a\")\n",
    "    h = open(\"{}_DNAgenomes.txt\".format(genie),\"a\")\n",
    "    g = open(\"{}_DNAcounting.txt\".format(genie),\"a\")\n",
    "    i = 0\n",
    "    for rec in SeqIO.parse(\"C:/Users/jmlanchy/allHCMVgenomesB.gb\", \"genbank\"):\n",
    "        for feature in rec.features:\n",
    "            if feature.type == \"CDS\":\n",
    "                if str(feature.qualifiers.get('gene'))[2:-2] == genie:\n",
    "                    f.write(\">\"+str(rec.id[0:8])+\"\\n\")\n",
    "                    f.write(str(feature.location.extract(rec).seq)+\"\\n\")\n",
    "                    h.write(str(rec.id[0:8])+\"\\n\")\n",
    "                    i=i+1\n",
    "    g.write(\"The number of {} total DNA sequences is \".format(genie))\n",
    "    g.write(str(i))\n",
    "    g.close()\n",
    "    f.close()\n",
    "    h.close()\n",
    "print('Done. Check the files.')"
   ]
  },
  {
   "cell_type": "markdown",
   "metadata": {},
   "source": [
    "The next cell/script aligns 170 fasta protein files containing up to 249 fasta entries each, based on the genes annotations found in all 249 HCMV genomes."
   ]
  },
  {
   "cell_type": "code",
   "execution_count": 10,
   "metadata": {},
   "outputs": [
    {
     "name": "stdout",
     "output_type": "stream",
     "text": [
      "Last step done. Check the files.\n"
     ]
    }
   ],
   "source": [
    "from Bio import SeqIO # PROTEIN ALIGNMENT AND AMINOACID ITEMIZATION\n",
    "from Bio.Seq import Seq\n",
    "import sys\n",
    "import csv\n",
    "import re\n",
    "import os\n",
    "from Bio.Align.Applications import MuscleCommandline\n",
    "from io import StringIO\n",
    "from Bio import AlignIO\n",
    "\n",
    "def itemizer(seq, size):\n",
    "    return [str(seq[pos:pos + size]) for pos in range(0, len(seq), size)]\n",
    "\n",
    "files = []\n",
    "files = [i for i in os.listdir(\"C:/Users/jmlanchy/diversity_proteins/proteins_files\") if i.endswith(\"_proteins.fasta\")]\n",
    "for x in files:\n",
    "    genius = x.partition('_proteins.fasta')[0]\n",
    "    in_file = \"C:/Users/jmlanchy/diversity_proteins/proteins_files/{}_proteins.fasta\".format(genius)\n",
    "    out_file = \"{}alignedproteins.fasta\".format(genius)\n",
    "    out_final = \"{}proteins.csv\".format(genius)\n",
    "    muscle_exe = \"muscle3.8.31_i86win32\"\n",
    "    cline = MuscleCommandline(muscle_exe, input=in_file, out=out_file)\n",
    "    stdout,stderr = cline(in_file)\n",
    "    align = AlignIO.read(out_file, \"fasta\")\n",
    "    for seq_record in SeqIO.parse(out_file,\"fasta\"): \n",
    "        length=len(seq_record.seq)\n",
    "        numbers=list(range(1,length+1))\n",
    "    with open(out_final, 'a', newline='') as f:\n",
    "        f.write(\"accession\" + \",\" + str(numbers)[1:-1] + \"\\n\")\n",
    "        for seq_record in SeqIO.parse(out_file,\"fasta\"):        \n",
    "            seq=itemizer(seq_record.seq,1) \n",
    "            f.write(seq_record.name + \",\"), f.write(re.sub(\"'\",\"\",str(seq))[1:-1]),f.write(\"\\n\")\n",
    "    f.close()\n",
    "print(\"Last step done. Check the files.\")"
   ]
  },
  {
   "cell_type": "markdown",
   "metadata": {},
   "source": [
    "The next cell/script aligns 170 fasta DNA files containing up to 249 fasta entries each, based on the genes annotations found in all 249 HCMV genomes."
   ]
  },
  {
   "cell_type": "code",
   "execution_count": 11,
   "metadata": {},
   "outputs": [
    {
     "name": "stdout",
     "output_type": "stream",
     "text": [
      "Last step done. Check the files.\n"
     ]
    }
   ],
   "source": [
    "from Bio import SeqIO # DNA ALIGNMENT AND CODON ITEMIZATION\n",
    "from Bio.Seq import Seq\n",
    "import sys\n",
    "import csv\n",
    "import re\n",
    "import os\n",
    "from Bio.Align.Applications import MuscleCommandline\n",
    "from io import StringIO\n",
    "from Bio import AlignIO\n",
    "\n",
    "def itemizer(seq, size):\n",
    "    return [str(seq[pos:pos + size]) for pos in range(0, len(seq), size)]\n",
    "\n",
    "files = []\n",
    "files = [i for i in os.listdir(\"C:/Users/jmlanchy/diversity_proteins/DNA_files\") if i.endswith(\"DNA.fasta\")]\n",
    "for x in files:\n",
    "    genius = x.partition('DNA.fasta')[0]\n",
    "    in_file = \"C:/Users/jmlanchy/diversity_proteins/DNA_files/{}DNA.fasta\".format(genius)\n",
    "    out_file = \"{}alignedDNA.fasta\".format(genius)\n",
    "    out_final = \"{}DNAs.csv\".format(genius)\n",
    "    muscle_exe = \"muscle3.8.31_i86win32\"\n",
    "    cline = MuscleCommandline(muscle_exe, input=in_file, out=out_file)\n",
    "    stdout,stderr = cline(in_file)\n",
    "    align = AlignIO.read(out_file, \"fasta\")\n",
    "    for seq_record in SeqIO.parse(out_file,\"fasta\"): \n",
    "        length=len(seq_record.seq)\n",
    "        numbers=list(range(1,int(length/3)+1))\n",
    "    with open(out_final, 'a', newline='') as f:\n",
    "        f.write(\"accession\" + \",\" + str(numbers)[1:-1] + \"\\n\")\n",
    "        for seq_record in SeqIO.parse(out_file,\"fasta\"):        \n",
    "            seq=itemizer(seq_record.seq,3) \n",
    "            f.write(seq_record.name + \",\"), f.write(re.sub(\"'\",\"\",str(seq))[1:-1]),f.write(\"\\n\")\n",
    "    f.close()\n",
    "print(\"Last step done. Check the files.\")"
   ]
  },
  {
   "cell_type": "code",
   "execution_count": null,
   "metadata": {},
   "outputs": [],
   "source": []
  },
  {
   "cell_type": "code",
   "execution_count": null,
   "metadata": {},
   "outputs": [],
   "source": []
  }
 ],
 "metadata": {
  "kernelspec": {
   "display_name": "Python 3",
   "language": "python",
   "name": "python3"
  },
  "language_info": {
   "codemirror_mode": {
    "name": "ipython",
    "version": 3
   },
   "file_extension": ".py",
   "mimetype": "text/x-python",
   "name": "python",
   "nbconvert_exporter": "python",
   "pygments_lexer": "ipython3",
   "version": "3.8.5"
  }
 },
 "nbformat": 4,
 "nbformat_minor": 4
}

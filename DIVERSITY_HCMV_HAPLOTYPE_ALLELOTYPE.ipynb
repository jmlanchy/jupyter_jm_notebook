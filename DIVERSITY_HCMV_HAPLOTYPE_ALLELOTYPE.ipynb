{
 "cells": [
  {
   "cell_type": "markdown",
   "metadata": {},
   "source": [
    "The next cell/script shows the number of HCMV genomes in the file called allHCMVgenomesB.gb."
   ]
  },
  {
   "cell_type": "code",
   "execution_count": 3,
   "metadata": {},
   "outputs": [
    {
     "name": "stdout",
     "output_type": "stream",
     "text": [
      "249\n"
     ]
    }
   ],
   "source": [
    "from Bio import SeqIO\n",
    "genomes_number_dict = SeqIO.to_dict(SeqIO.parse(\"C:/Users/jmlanchy/allHCMVgenomesB.gb\", \\\n",
    "                                                \"genbank\"))\n",
    "print(len(genomes_number_dict))"
   ]
  },
  {
   "cell_type": "markdown",
   "metadata": {},
   "source": [
    "The next cell/script shows the extraction of the genes listed in each of the 246 HCMV genomes.\\ Each file name contains the genbank ID, like KF021605_genes."
   ]
  },
  {
   "cell_type": "code",
   "execution_count": 4,
   "metadata": {},
   "outputs": [],
   "source": [
    "from Bio import SeqIO\n",
    "list_genomes=[]\n",
    "for rec in SeqIO.parse(\"C:/Users/jmlanchy/allHCMVgenomesB.gb\", \"genbank\"):\n",
    "    list_genes=[]\n",
    "    for feature in rec.features:\n",
    "        if feature.type == \"CDS\":\n",
    "            list_genes.append(str(feature.qualifiers.get('gene')))\n",
    "    list_genomes.append(list_genes)"
   ]
  },
  {
   "cell_type": "markdown",
   "metadata": {},
   "source": [
    "The next cell/script is about comparing two genomes lists of genes."
   ]
  },
  {
   "cell_type": "code",
   "execution_count": 46,
   "metadata": {},
   "outputs": [
    {
     "name": "stdout",
     "output_type": "stream",
     "text": [
      "The lists are not identical\n",
      "[\"['RL5A']\", \"['UL131A']\", \"['UL141']\", \"['UL140']\", \"['UL144']\", \"['UL142']\", \"['RL13']\"]\n"
     ]
    }
   ],
   "source": [
    "from collections import Counter\n",
    "# for rec in SeqIO.parse(\"C:/Users/jmlanchy/allHCMVgenomesB.gb\", \"genbank\"):\n",
    "#     print(rec.id)\n",
    "if Counter(list_genomes[18]) == Counter(list_genomes[19]):\n",
    "    print (\"The lists are identical\")\n",
    "else :\n",
    "    print (\"The lists are not identical\")\n",
    "def Diff(li1, li2):\n",
    "    return (list(list(set(li1)-set(li2)) + list(set(li2)-set(li1))))\n",
    "li1 = list_genomes[18]\n",
    "li2 = list_genomes[19]\n",
    "print(Diff(li1, li2))"
   ]
  },
  {
   "cell_type": "code",
   "execution_count": null,
   "metadata": {},
   "outputs": [],
   "source": []
  },
  {
   "cell_type": "code",
   "execution_count": null,
   "metadata": {},
   "outputs": [],
   "source": [
    "HCMVgenes= ['US{}'.format(i) for i in range(1,36)]\n",
    "\n",
    "for genie in HCMVgenes:\n",
    "    f=[]\n",
    "    f = open(\"{}proteins.fasta\".format(genie),\"a\")"
   ]
  },
  {
   "cell_type": "code",
   "execution_count": null,
   "metadata": {},
   "outputs": [],
   "source": []
  },
  {
   "cell_type": "code",
   "execution_count": null,
   "metadata": {},
   "outputs": [],
   "source": [
    "from Bio import SeqIO\n",
    "import sys\n",
    "\n",
    "HIV1genes=['gag-pol', 'gag', 'vif', 'vpr', 'tat', 'rev', 'vpu', 'env', 'nef', 'asp', 'pol', 'vpR', 'vpU', 'nef protein', 'rev1', 'Gag', 'Pol', 'Vif', 'Vpr', 'Tat', 'Rev', 'Vpu', 'Env', 'Nef', 'GP160']\n",
    "for genie in HIV1genes:\n",
    " #   f=[]\n",
    "   # f = open(\"{}proteins.fasta\".format(genie),\"a\")\n",
    "    for rec in SeqIO.parse(\"C:/Users/jmlanchy/HIV1genomes.gb\", \"genbank\"):\n",
    "        for feature in rec.features:\n",
    "            if feature.type == \"CDS\":\n",
    "                if feature.qualifiers.get('gene') == [genie]:\n",
    "                    print(feature.qualifiers)\n",
    "                    \n",
    "                   # f.write(\">\" + genie + \"_\" + \"HIV1\" + \"_\" + rec.name + \"\\n\")\n",
    "                  #  f.write(str(feature.qualifiers[\"translation\"])[2:-2])\n",
    "                   # f.write(\"\\n\")\n",
    "    #f.close()\n",
    "    \n",
    "print(\"\\tDone. Check the files!\")\n"
   ]
  },
  {
   "cell_type": "code",
   "execution_count": null,
   "metadata": {},
   "outputs": [],
   "source": []
  },
  {
   "cell_type": "code",
   "execution_count": null,
   "metadata": {},
   "outputs": [],
   "source": [
    "files = []\n",
    "files = [i for i in os.listdir(\"C:/Users/jmlanchy/HCMV_proteins_folder\") if i.endswith(\"fasta\")]\n",
    "print(files)\n",
    "#for x in files:\n",
    "    #genie = x.partition('proteins.fasta')[0]\n",
    "    #print(genie)\n",
    "    #in_file = \"{}proteins.fasta\".format(genie)\n",
    "    #print(in_file)\n",
    "    #out_file = \"{}alignedproteins.fasta\".format(genie)\n",
    "    #print(out_file)"
   ]
  },
  {
   "cell_type": "code",
   "execution_count": null,
   "metadata": {},
   "outputs": [],
   "source": []
  },
  {
   "cell_type": "code",
   "execution_count": null,
   "metadata": {},
   "outputs": [],
   "source": [
    "from Bio import SeqIO # HCMV PROTEIN EXTRACTION\n",
    "f=[]\n",
    "f = open(\"UL82_proteins.fasta\",\"a\")\n",
    "for rec in SeqIO.parse(\"C:/Users/jmlanchy/allHCMVgenomesB.gb\", \"genbank\"):\n",
    "    for feature in rec.features:\n",
    "        if feature.type == \"CDS\":\n",
    "            if feature.qualifiers.get('gene') == ['UL82']:\n",
    "                g = open(\"{}proteins_genomeslist.csv\".format(str(feature.qualifiers.get('gene'))[2:-2]),\"a\")\n",
    "                start_i = feature.location.start\n",
    "                end_i = feature.location.end\n",
    "                g.write(str(rec.id[0:8])+\"\\n\")\n",
    "                f.write(\">\"+str(rec.id[0:8])+\"\\n\")\n",
    "                f.write(str(rec.seq[start_i:end_i].reverse_complement().translate())+\"\\n\")\n",
    "g.close()\n",
    "f.close()\n",
    "print('Done. Check the file.')"
   ]
  },
  {
   "cell_type": "code",
   "execution_count": null,
   "metadata": {},
   "outputs": [],
   "source": []
  },
  {
   "cell_type": "code",
   "execution_count": null,
   "metadata": {},
   "outputs": [],
   "source": [
    "from Bio import SeqIO # HCMV DNA EXTRACTION\n",
    "f=[]\n",
    "f = open(\"UL82_DNAs.fasta\",\"a\")\n",
    "for rec in SeqIO.parse(\"C:/Users/jmlanchy/allHCMVgenomesB.gb\", \"genbank\"):\n",
    "    for feature in rec.features:\n",
    "        if feature.type == \"CDS\":\n",
    "            if feature.qualifiers.get('gene') == ['UL82']:\n",
    "                g = open(\"{}DNAs_genomeslist.csv\".format(str(feature.qualifiers.get('gene'))[2:-2]),\"a\")\n",
    "                start_i = feature.location.start\n",
    "                end_i = feature.location.end\n",
    "                g.write(str(rec.id[0:8])+\"\\n\")\n",
    "                f.write(\">\"+str(rec.id[0:8])+\"\\n\")\n",
    "                f.write(str(rec.seq[start_i:end_i].reverse_complement())+\"\\n\")\n",
    "g.close()\n",
    "f.close()\n",
    "print('Done. Check the file.')"
   ]
  },
  {
   "cell_type": "code",
   "execution_count": null,
   "metadata": {},
   "outputs": [],
   "source": []
  },
  {
   "cell_type": "code",
   "execution_count": null,
   "metadata": {},
   "outputs": [],
   "source": []
  },
  {
   "cell_type": "code",
   "execution_count": null,
   "metadata": {},
   "outputs": [],
   "source": []
  },
  {
   "cell_type": "code",
   "execution_count": null,
   "metadata": {},
   "outputs": [],
   "source": []
  },
  {
   "cell_type": "code",
   "execution_count": null,
   "metadata": {},
   "outputs": [],
   "source": []
  },
  {
   "cell_type": "code",
   "execution_count": null,
   "metadata": {},
   "outputs": [],
   "source": []
  }
 ],
 "metadata": {
  "kernelspec": {
   "display_name": "Python 3",
   "language": "python",
   "name": "python3"
  },
  "language_info": {
   "codemirror_mode": {
    "name": "ipython",
    "version": 3
   },
   "file_extension": ".py",
   "mimetype": "text/x-python",
   "name": "python",
   "nbconvert_exporter": "python",
   "pygments_lexer": "ipython3",
   "version": "3.8.5"
  }
 },
 "nbformat": 4,
 "nbformat_minor": 4
}

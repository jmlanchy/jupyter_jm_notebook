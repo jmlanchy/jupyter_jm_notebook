{
 "cells": [
  {
   "cell_type": "code",
   "execution_count": 1,
   "metadata": {},
   "outputs": [
    {
     "name": "stdout",
     "output_type": "stream",
     "text": [
      "\tThere are a total of 10 GUGUG motifs in the Human immunodeficiency virus 1 (HIV-1) genome.\n",
      "\tThere are a total of 58 GUGUG motifs in the Middle East respiratory syndrome-related coronavirus (MERS-CoV) genome.\n",
      "\tThere are a total of 37 GUGUG motifs in the SARS coronavirus Tor2 genome.\n",
      "\tThere are a total of 35 GUGUG motifs in the Severe acute respiratory syndrome coronavirus 2 (SARS-CoV-2) genome.\n",
      "\tThere are a total of 2 GUUGUG motifs in the Human immunodeficiency virus 1 (HIV-1) genome.\n",
      "\tThere are a total of 16 GUUGUG motifs in the Middle East respiratory syndrome-related coronavirus (MERS-CoV) genome.\n",
      "\tThere are a total of 13 GUUGUG motifs in the SARS coronavirus Tor2 genome.\n",
      "\tThere are a total of 11 GUUGUG motifs in the Severe acute respiratory syndrome coronavirus 2 (SARS-CoV-2) genome.\n"
     ]
    }
   ],
   "source": [
    "import pandas\n",
    "from Bio import SeqIO\n",
    "from Bio import motifs\n",
    "from Bio.Seq import Seq\n",
    "\n",
    "# possible motifs to search for:\n",
    "# RNA33, 5-GUAGUGUGUG;RNA34, 5-GUCUGUUGUGUG in Heil et al. 2004, Science 303 (5663):1526-1529.\n",
    "# GUGUGU, GUGUGUG, GUUGUGU, GUUGUGUG in Forsbach et al. 2008, J Immunol 180:3729-3738.\n",
    "\n",
    "GUmotif = (Seq(\"GTGTG\"),Seq(\"GTTGTG\"))\n",
    "for mot in GUmotif:\n",
    "    for seq_record in SeqIO.parse(\"sequence.gb\", \"genbank\"):\n",
    "        instances = [mot]\n",
    "        m = motifs.create(instances)\n",
    "        total = 0\n",
    "        #print(\"List of \" + str(mot.transcribe()) + \" \" + \"motifs in \" + seq_record.annotations[\"source\"] + \" genome.\\n\")\n",
    "        for pos,seq in m.instances.search(seq_record.seq):\n",
    "            total = total + 1\n",
    "            #print(seq_record.name + \" : %i : %s\" %(pos,seq.transcribe()))\n",
    "        print(\"\\tThere are a total of \" + str(total) + \" \" + str(mot.transcribe()) + \" motifs in the \" + seq_record.annotations[\"source\"] + \" genome.\")"
   ]
  },
  {
   "cell_type": "code",
   "execution_count": null,
   "metadata": {},
   "outputs": [],
   "source": []
  },
  {
   "cell_type": "code",
   "execution_count": null,
   "metadata": {},
   "outputs": [],
   "source": []
  }
 ],
 "metadata": {
  "kernelspec": {
   "display_name": "Python 3",
   "language": "python",
   "name": "python3"
  },
  "language_info": {
   "codemirror_mode": {
    "name": "ipython",
    "version": 3
   },
   "file_extension": ".py",
   "mimetype": "text/x-python",
   "name": "python",
   "nbconvert_exporter": "python",
   "pygments_lexer": "ipython3",
   "version": "3.8.5"
  }
 },
 "nbformat": 4,
 "nbformat_minor": 4
}

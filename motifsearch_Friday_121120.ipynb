{
 "cells": [
  {
   "cell_type": "code",
   "execution_count": 26,
   "metadata": {},
   "outputs": [
    {
     "name": "stdout",
     "output_type": "stream",
     "text": [
      "There are a total of 14 AUUAU motifs in the 2280 nts-long segment of the Influenza A virus (A/California/07/2009(H1N1))\n",
      "There are a total of 8 AUUGU motifs in the 2151 nts-long segment of the Influenza A virus (A/California/07/2009(H1N1))\n",
      "There are a total of 6 GUUAU motifs in the 1497 nts-long segment of the Influenza A virus (A/California/07/2009(H1N1))\n",
      "There are a total of 14 AUUAU motifs in the 2274 nts-long segment of the Influenza A virus (A/California/07/2009(H1N1))\n",
      "There are a total of 18 AUUAU motifs in the 1410 nts-long segment of the Influenza A virus (A/California/07/2009(H1N1))\n",
      "There are a total of 9 AUUGU motifs in the 1701 nts-long segment of the Influenza A virus (A/California/07/2009(H1N1))\n",
      "There are a total of 5 AUUGU motifs in the 863 nts-long segment of the Influenza A virus (A/California/07/2009(H1N1))\n",
      "There are a total of 3 GUUGU motifs in the 982 nts-long segment of the Influenza A virus (A/California/07/2009(H1N1))\n",
      "There are a total of 25 AUUAU motifs in the 1398 nts-long segment of the Influenza A virus (A/Shanghai/02/2013(H7N9))\n",
      "There are a total of 4 GUUAU motifs in the 841 nts-long segment of the Influenza A virus (A/Shanghai/02/2013(H7N9))\n",
      "There are a total of 3 GUUGU motifs in the 985 nts-long segment of the Influenza A virus (A/Shanghai/02/2013(H7N9))\n",
      "There are a total of 8 AUUGU motifs in the 1506 nts-long segment of the Influenza A virus (A/Shanghai/02/2013(H7N9))\n",
      "There are a total of 12 AUUGU motifs in the 1708 nts-long segment of the Influenza A virus (A/Shanghai/02/2013(H7N9))\n",
      "There are a total of 14 GUUGU motifs in the 2297 nts-long segment of the Influenza A virus (A/Shanghai/02/2013(H7N9))\n",
      "There are a total of 8 AUUAU motifs in the 2176 nts-long segment of the Influenza A virus (A/Shanghai/02/2013(H7N9))\n",
      "There are a total of 10 GUUGU motifs in the 2280 nts-long segment of the Influenza A virus (A/Shanghai/02/2013(H7N9))\n"
     ]
    }
   ],
   "source": [
    "import regex as re\n",
    "import csv\n",
    "from Bio import SeqIO\n",
    "from Bio.Seq import Seq\n",
    "\n",
    "#f = open(\"SARS_motifs_RUURU.csv\",\"a\")\n",
    "#f.write(\"genome\" + \",\" + \"motif\" + \",\" + \"start\" + \",\" + \"end\\n\")\n",
    "for seq_record in SeqIO.parse(\"fluA.gb\", \"genbank\"):\n",
    "#I suggest a 5-mer because the following sequence is shown to be the minimum motif for immunoactivity of a sequence called ssRNA40:\n",
    "#5’-UUGUUGUUGUUGUUGUUGUU-3’   \n",
    "    matches = re.finditer(r\"[AG]TT[AG]T\", str(seq_record.seq.reverse_complement()), overlapped=True)\n",
    "    total=0\n",
    "    for m in matches:\n",
    "        base  = m.group() \n",
    "        pos   = m.start()\n",
    "        fin   = m.end()\n",
    "        total = total + 1\n",
    "    print(\"There are a total of \" + str(total) + \" \" +  base.replace(\"T\",\"U\") + \" motifs in the \" + str(len(seq_record.seq)) + \" nts-long segment of the \" + seq_record.annotations[\"source\"])\n",
    "        #f.write(seq_record.name + \",\" + base.replace(\"T\",\"U\") + \",\" + str(pos) + \",\" + str(fin) + \"\\n\")     \n",
    "    #print(\"There are a total of \" + str(total) +  \" RUURU motifs in the \" + seq_record.annotations[\"source\"] + \" genome.\")\n",
    "#f.close()"
   ]
  },
  {
   "cell_type": "code",
   "execution_count": null,
   "metadata": {},
   "outputs": [],
   "source": []
  }
 ],
 "metadata": {
  "kernelspec": {
   "display_name": "Python 3",
   "language": "python",
   "name": "python3"
  },
  "language_info": {
   "codemirror_mode": {
    "name": "ipython",
    "version": 3
   },
   "file_extension": ".py",
   "mimetype": "text/x-python",
   "name": "python",
   "nbconvert_exporter": "python",
   "pygments_lexer": "ipython3",
   "version": "3.8.5"
  }
 },
 "nbformat": 4,
 "nbformat_minor": 4
}

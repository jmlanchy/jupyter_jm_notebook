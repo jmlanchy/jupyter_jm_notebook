{
 "cells": [
  {
   "cell_type": "code",
   "execution_count": null,
   "metadata": {},
   "outputs": [],
   "source": [
    "from Bio import SeqIO\n",
    "import sys\n",
    "\n",
    "with open(sys.argv[2], 'w') as nfh:\n",
    "    for rec in SeqIO.parse('./Desktop/hcmvgenomes/3genomes.gb', \"genbank\"):\n",
    "        if rec.features:\n",
    "            for feature in rec.features:\n",
    "                if feature.type == \"CDS\":\n",
    "                    geng = feature.qualifiers['gene'][0]\n",
    "                    if geng == 'UL11':\n",
    "                        start_i = int(feature.location.start)\n",
    "                        end_i = int(feature.location.end)\n",
    "                        #print(\">UL11_\"+str(start_i)+':'+str(end_i)+\"_\"+rec.name)\n",
    "                        print(\">UL11_\"+rec.name)\n",
    "                        print(rec.seq[start_i:end_i])\n",
    "                        #print(rec.seq[start_i:end_i].reverse_complement())\n",
    "                        #print(rec.name)\n",
    "                        #print(feature.qualifiers['translation'])\n"
   ]
  }
 ],
 "metadata": {
  "kernelspec": {
   "display_name": "Python 3",
   "language": "python",
   "name": "python3"
  },
  "language_info": {
   "codemirror_mode": {
    "name": "ipython",
    "version": 3
   },
   "file_extension": ".py",
   "mimetype": "text/x-python",
   "name": "python",
   "nbconvert_exporter": "python",
   "pygments_lexer": "ipython3",
   "version": "3.8.5"
  }
 },
 "nbformat": 4,
 "nbformat_minor": 4
}

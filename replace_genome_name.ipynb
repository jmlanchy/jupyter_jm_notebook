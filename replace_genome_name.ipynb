{
 "cells": [
  {
   "cell_type": "code",
   "execution_count": 1,
   "metadata": {},
   "outputs": [],
   "source": [
    "import csv  \n",
    "import regex as re \n",
    "\n",
    "#dict = {\"NC_001802\": \"HIV-1\",\"NC_019843\": \"MERS_hCoV\",\"NC_004718\": \"SARS_Tor2\",\"NC_045512\": \"Wuhan-Hu-1\"}\n",
    "text = open(\"test.csv\", \"r\")\n",
    "text = ''.join([i for i in text]) \\\n",
    "    .replace(\"NC_001802\", \"HIV-1\")\n",
    "x = open(\"output.csv\",\"w\")\n",
    "x.writelines(text)\n",
    "text = ''.join([i for i in text]) \\\n",
    "    .replace(\"NC_019843\", \"MERS_hCoV\")\n",
    "x = open(\"output.csv\",\"w\")\n",
    "x.writelines(text)\n",
    "text = ''.join([i for i in text]) \\\n",
    "    .replace(\"NC_004718\", \"SARS_Tor2\")\n",
    "x = open(\"output.csv\",\"w\")\n",
    "x.writelines(text)\n",
    "text = ''.join([i for i in text]) \\\n",
    "    .replace(\"NC_045512\", \"Wuhan-Hu-1\")\n",
    "x = open(\"output.csv\",\"w\")\n",
    "x.writelines(text)\n",
    "x.close()"
   ]
  },
  {
   "cell_type": "code",
   "execution_count": null,
   "metadata": {},
   "outputs": [],
   "source": []
  }
 ],
 "metadata": {
  "kernelspec": {
   "display_name": "Python 3",
   "language": "python",
   "name": "python3"
  },
  "language_info": {
   "codemirror_mode": {
    "name": "ipython",
    "version": 3
   },
   "file_extension": ".py",
   "mimetype": "text/x-python",
   "name": "python",
   "nbconvert_exporter": "python",
   "pygments_lexer": "ipython3",
   "version": "3.8.5"
  }
 },
 "nbformat": 4,
 "nbformat_minor": 4
}

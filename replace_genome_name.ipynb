{
 "cells": [
  {
   "cell_type": "code",
   "execution_count": 11,
   "metadata": {},
   "outputs": [],
   "source": [
    "import csv  \n",
    "import re  \n",
    "\n",
    "in_file = open(\"test.csv\",'rt')  \n",
    "reader = csv.reader(in_file)\n",
    "out_file = open(\"out.csv\", \"wt\")  \n",
    "writer = csv.writer(out_file)\n",
    "for row in reader:   \n",
    "    newrow = [re.sub(\"NC_001802\", \"HIV-1\", s) for s in row]\n",
    "    writer.writerow(newrow)\n",
    "for row in reader:  \n",
    "    newrow = [re.sub(\"NC_019843\", \"MERS_hCoV_2012\", s) for s in row]\n",
    "    writer.writerow(newrow)\n",
    "for row in reader:   \n",
    "    newrow = [re.sub(\"NC_004718\", \"SARS_Tor2\", s) for s in row]\n",
    "    writer.writerow(newrow)\n",
    "for row in reader: \n",
    "    newrow = [re.sub(\"NC_045512\", \"Wuhan-Hu-1\", s) for s in row]\n",
    "    writer.writerow(newrow)\n",
    "in_file.close()\n",
    "out_file.close()"
   ]
  },
  {
   "cell_type": "code",
   "execution_count": null,
   "metadata": {},
   "outputs": [],
   "source": []
  }
 ],
 "metadata": {
  "kernelspec": {
   "display_name": "Python 3",
   "language": "python",
   "name": "python3"
  },
  "language_info": {
   "codemirror_mode": {
    "name": "ipython",
    "version": 3
   },
   "file_extension": ".py",
   "mimetype": "text/x-python",
   "name": "python",
   "nbconvert_exporter": "python",
   "pygments_lexer": "ipython3",
   "version": "3.8.5"
  }
 },
 "nbformat": 4,
 "nbformat_minor": 4
}
